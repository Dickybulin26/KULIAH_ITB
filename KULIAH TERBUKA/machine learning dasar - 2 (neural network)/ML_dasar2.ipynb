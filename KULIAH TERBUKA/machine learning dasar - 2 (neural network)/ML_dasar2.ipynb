{
 "cells": [
  {
   "attachments": {},
   "cell_type": "markdown",
   "metadata": {},
   "source": [
    "# **MACHINE LEARNING DASAR #2**"
   ]
  },
  {
   "cell_type": "code",
   "execution_count": 1,
   "metadata": {},
   "outputs": [],
   "source": [
    "%matplotlib inline\n",
    "import numpy as np\n",
    "import pandas as pd\n",
    "from sklearn.utils import shuffle\n",
    "import matplotlib.pyplot as plt\n",
    "from fungsi import sigmoid "
   ]
  },
  {
   "attachments": {},
   "cell_type": "markdown",
   "metadata": {},
   "source": [
    "# Generate DataFrame"
   ]
  },
  {
   "attachments": {},
   "cell_type": "markdown",
   "metadata": {},
   "source": [
    "## Data Udin"
   ]
  },
  {
   "cell_type": "code",
   "execution_count": 2,
   "metadata": {},
   "outputs": [
    {
     "name": "stdout",
     "output_type": "stream",
     "text": [
      "           x1        x2  y1  y2 label\n",
      "0   17.723355  5.241533   1   0  udin\n",
      "1   19.063846  3.776374   1   0  udin\n",
      "2   18.396649  3.511797   1   0  udin\n",
      "3   18.425838  6.258987   1   0  udin\n",
      "4   18.429015  4.724605   1   0  udin\n",
      "..        ...       ...  ..  ..   ...\n",
      "94  18.417730  4.163647   1   0  udin\n",
      "95  17.941444  5.031188   1   0  udin\n",
      "96  17.984217  4.304677   1   0  udin\n",
      "97  19.260416  4.899364   1   0  udin\n",
      "98  17.105772  5.808031   1   0  udin\n",
      "\n",
      "[99 rows x 5 columns]\n"
     ]
    }
   ],
   "source": [
    "# tinggi badan \n",
    "x1 = np.array([18 + 1*np.random.randn() for i in range (1, 100)])\n",
    "# berat badan \n",
    "x2 = np.array([5 + 1*np.random.randn() for i in range (1, 100)])\n",
    "#  status udin\n",
    "y1 = np.array([1 for i in range(1, 100)])\n",
    "# status asep\n",
    "y2 = np.array([0 for i in range(1, 100)])\n",
    "# label\n",
    "label = [\"udin\" for i in range(1, 100)]\n",
    "\n",
    "# data kompilasi\n",
    "data_udin = {\n",
    "    'x1':x1,\n",
    "    'x2':x2,\n",
    "    'y1':y1,\n",
    "    'y2':y2,\n",
    "    \"label\":label,\n",
    "}\n",
    "\n",
    "# data frame\n",
    "data_frame_1 = pd.DataFrame(data = data_udin)\n",
    "print(data_frame_1)"
   ]
  },
  {
   "attachments": {},
   "cell_type": "markdown",
   "metadata": {},
   "source": [
    "## Data Asep"
   ]
  },
  {
   "cell_type": "code",
   "execution_count": 3,
   "metadata": {},
   "outputs": [
    {
     "name": "stdout",
     "output_type": "stream",
     "text": [
      "           x1        x2  y1  y2 label\n",
      "0   11.741163  7.233988   0   1  asep\n",
      "1    8.290200  8.769032   0   1  asep\n",
      "2    9.862558  6.713011   0   1  asep\n",
      "3   10.101295  8.318007   0   1  asep\n",
      "4   10.824847  6.518299   0   1  asep\n",
      "..        ...       ...  ..  ..   ...\n",
      "94  12.050721  8.655866   0   1  asep\n",
      "95  10.490042  7.639943   0   1  asep\n",
      "96   9.349601  9.098574   0   1  asep\n",
      "97   9.135352  8.133669   0   1  asep\n",
      "98   8.872788  9.664225   0   1  asep\n",
      "\n",
      "[99 rows x 5 columns]\n"
     ]
    }
   ],
   "source": [
    "# tinggi badan \n",
    "x1 = np.array([10 + 1*np.random.randn() for i in range (1, 100)])\n",
    "# berat badan \n",
    "x2 = np.array([8 + 1*np.random.randn() for i in range (1, 100)])\n",
    "#  status udin\n",
    "y1 = np.array([0 for i in range(1, 100)])\n",
    "# status asep\n",
    "y2 = np.array([1 for i in range(1, 100)])\n",
    "# label\n",
    "label = [\"asep\" for i in range(1, 100)]\n",
    "\n",
    "# data kompilasi\n",
    "data_asep = {\n",
    "    'x1':x1,\n",
    "    'x2':x2,\n",
    "    'y1':y1,\n",
    "    'y2':y2,\n",
    "    \"label\":label,\n",
    "}\n",
    "\n",
    "# data frame\n",
    "data_frame_2 = pd.DataFrame(data = data_asep)\n",
    "print(data_frame_2)"
   ]
  },
  {
   "attachments": {},
   "cell_type": "markdown",
   "metadata": {},
   "source": [
    "# Gabungkan Data"
   ]
  },
  {
   "cell_type": "code",
   "execution_count": 4,
   "metadata": {},
   "outputs": [
    {
     "name": "stdout",
     "output_type": "stream",
     "text": [
      "            x1         x2  y1  y2 label\n",
      "0     7.897620  10.299184   0   1  asep\n",
      "1     9.666222   8.799487   0   1  asep\n",
      "2    11.060493   8.632264   0   1  asep\n",
      "3     9.581731   8.524368   0   1  asep\n",
      "4    19.509367   4.175009   1   0  udin\n",
      "..         ...        ...  ..  ..   ...\n",
      "193  16.130831   5.570205   1   0  udin\n",
      "194  10.143329   7.951071   0   1  asep\n",
      "195  16.791859   4.130021   1   0  udin\n",
      "196   9.338702   6.313277   0   1  asep\n",
      "197  19.938350   5.402356   1   0  udin\n",
      "\n",
      "[198 rows x 5 columns]\n"
     ]
    }
   ],
   "source": [
    "data_frame = pd.concat([data_frame_1,data_frame_2])\n",
    "data_frame = shuffle(data_frame)\n",
    "data_frame.reset_index(inplace=True, drop=True)\n",
    "print(data_frame)"
   ]
  },
  {
   "cell_type": "code",
   "execution_count": 5,
   "metadata": {},
   "outputs": [
    {
     "data": {
      "image/png": "[encoded data removed]",
      "text/plain": [
       "<Figure size 640x480 with 1 Axes>"
      ]
     },
     "metadata": {},
     "output_type": "display_data"
    }
   ],
   "source": [
    "plt.scatter(data_frame_1.x1, data_frame_1.x2)\n",
    "plt.scatter(data_frame_2.x1, data_frame_2.x2)\n",
    "plt.grid(True)\n",
    "plt.show()"
   ]
  },
  {
   "attachments": {},
   "cell_type": "markdown",
   "metadata": {},
   "source": [
    "# **Neural Network**"
   ]
  },
  {
   "attachments": {},
   "cell_type": "markdown",
   "metadata": {},
   "source": [
    "## 1.Matrix Weight"
   ]
  },
  {
   "cell_type": "code",
   "execution_count": 6,
   "metadata": {},
   "outputs": [
    {
     "name": "stdout",
     "output_type": "stream",
     "text": [
      "[[ 0.00558172 -0.0030734 ]\n",
      " [-0.00283579 -0.00074977]]\n"
     ]
    }
   ],
   "source": [
    "w11 = np.random.uniform(-0.01,0.01) \n",
    "w12 = np.random.uniform(-0.01,0.01)\n",
    "w21 = np.random.uniform(-0.01,0.01)\n",
    "w22 = np.random.uniform(-0.01,0.01)\n",
    "\n",
    "w = np.array([[w11,w12], [w21,w22]])\n",
    "\n",
    "print(w)"
   ]
  },
  {
   "attachments": {},
   "cell_type": "markdown",
   "metadata": {},
   "source": [
    "## 2.Iteration Neural Network"
   ]
  },
  {
   "cell_type": "code",
   "execution_count": 7,
   "metadata": {},
   "outputs": [
    {
     "name": "stdout",
     "output_type": "stream",
     "text": [
      "index = 0 | tebakan = udin | jawaban = asep\n",
      "index = 1 | tebakan = asep | jawaban = asep\n",
      "index = 2 | tebakan = asep | jawaban = asep\n",
      "index = 3 | tebakan = asep | jawaban = asep\n",
      "index = 4 | tebakan = asep | jawaban = udin\n",
      "index = 5 | tebakan = asep | jawaban = udin\n",
      "index = 6 | tebakan = udin | jawaban = udin\n",
      "index = 7 | tebakan = udin | jawaban = asep\n",
      "index = 8 | tebakan = udin | jawaban = udin\n",
      "index = 9 | tebakan = udin | jawaban = udin\n",
      "index = 10 | tebakan = udin | jawaban = asep\n",
      "index = 11 | tebakan = udin | jawaban = udin\n",
      "index = 12 | tebakan = udin | jawaban = udin\n",
      "index = 13 | tebakan = asep | jawaban = asep\n",
      "index = 14 | tebakan = asep | jawaban = asep\n",
      "index = 15 | tebakan = udin | jawaban = udin\n",
      "index = 16 | tebakan = asep | jawaban = asep\n",
      "index = 17 | tebakan = asep | jawaban = asep\n",
      "index = 18 | tebakan = asep | jawaban = asep\n",
      "index = 19 | tebakan = asep | jawaban = udin\n",
      "index = 20 | tebakan = udin | jawaban = udin\n",
      "index = 21 | tebakan = udin | jawaban = udin\n",
      "index = 22 | tebakan = udin | jawaban = asep\n",
      "index = 23 | tebakan = asep | jawaban = asep\n",
      "index = 24 | tebakan = udin | jawaban = udin\n",
      "index = 25 | tebakan = asep | jawaban = asep\n",
      "index = 26 | tebakan = udin | jawaban = udin\n",
      "index = 27 | tebakan = udin | jawaban = udin\n",
      "index = 28 | tebakan = udin | jawaban = udin\n",
      "index = 29 | tebakan = udin | jawaban = udin\n",
      "index = 30 | tebakan = asep | jawaban = asep\n",
      "index = 31 | tebakan = udin | jawaban = udin\n",
      "index = 32 | tebakan = udin | jawaban = udin\n",
      "index = 33 | tebakan = udin | jawaban = udin\n",
      "index = 34 | tebakan = udin | jawaban = udin\n",
      "index = 35 | tebakan = udin | jawaban = asep\n",
      "index = 36 | tebakan = asep | jawaban = asep\n",
      "index = 37 | tebakan = udin | jawaban = udin\n",
      "index = 38 | tebakan = udin | jawaban = udin\n",
      "index = 39 | tebakan = asep | jawaban = asep\n",
      "index = 40 | tebakan = asep | jawaban = asep\n",
      "index = 41 | tebakan = udin | jawaban = udin\n",
      "index = 42 | tebakan = asep | jawaban = asep\n",
      "index = 43 | tebakan = asep | jawaban = asep\n",
      "index = 44 | tebakan = asep | jawaban = asep\n",
      "index = 45 | tebakan = udin | jawaban = udin\n",
      "index = 46 | tebakan = udin | jawaban = udin\n",
      "index = 47 | tebakan = udin | jawaban = udin\n",
      "index = 48 | tebakan = asep | jawaban = asep\n",
      "index = 49 | tebakan = udin | jawaban = udin\n",
      "index = 50 | tebakan = udin | jawaban = udin\n",
      "index = 51 | tebakan = udin | jawaban = udin\n",
      "index = 52 | tebakan = udin | jawaban = udin\n",
      "index = 53 | tebakan = asep | jawaban = asep\n",
      "index = 54 | tebakan = udin | jawaban = udin\n",
      "index = 55 | tebakan = udin | jawaban = udin\n",
      "index = 56 | tebakan = asep | jawaban = asep\n",
      "index = 57 | tebakan = asep | jawaban = asep\n",
      "index = 58 | tebakan = udin | jawaban = udin\n",
      "index = 59 | tebakan = udin | jawaban = udin\n",
      "index = 60 | tebakan = asep | jawaban = asep\n",
      "index = 61 | tebakan = udin | jawaban = udin\n",
      "index = 62 | tebakan = asep | jawaban = asep\n",
      "index = 63 | tebakan = udin | jawaban = udin\n",
      "index = 64 | tebakan = asep | jawaban = asep\n",
      "index = 65 | tebakan = udin | jawaban = udin\n",
      "index = 66 | tebakan = udin | jawaban = udin\n",
      "index = 67 | tebakan = udin | jawaban = udin\n",
      "index = 68 | tebakan = asep | jawaban = asep\n",
      "index = 69 | tebakan = asep | jawaban = asep\n",
      "index = 70 | tebakan = udin | jawaban = udin\n",
      "index = 71 | tebakan = asep | jawaban = asep\n",
      "index = 72 | tebakan = udin | jawaban = udin\n",
      "index = 73 | tebakan = asep | jawaban = asep\n",
      "index = 74 | tebakan = asep | jawaban = asep\n",
      "index = 75 | tebakan = asep | jawaban = asep\n",
      "index = 76 | tebakan = asep | jawaban = asep\n",
      "index = 77 | tebakan = udin | jawaban = udin\n",
      "index = 78 | tebakan = asep | jawaban = asep\n",
      "index = 79 | tebakan = udin | jawaban = udin\n",
      "index = 80 | tebakan = udin | jawaban = udin\n",
      "index = 81 | tebakan = asep | jawaban = asep\n",
      "index = 82 | tebakan = udin | jawaban = udin\n",
      "index = 83 | tebakan = asep | jawaban = asep\n",
      "index = 84 | tebakan = udin | jawaban = udin\n",
      "index = 85 | tebakan = udin | jawaban = udin\n",
      "index = 86 | tebakan = udin | jawaban = udin\n",
      "index = 87 | tebakan = asep | jawaban = asep\n",
      "index = 88 | tebakan = asep | jawaban = asep\n",
      "index = 89 | tebakan = asep | jawaban = asep\n",
      "index = 90 | tebakan = asep | jawaban = asep\n",
      "index = 91 | tebakan = udin | jawaban = udin\n",
      "index = 92 | tebakan = udin | jawaban = udin\n",
      "index = 93 | tebakan = udin | jawaban = udin\n",
      "index = 94 | tebakan = asep | jawaban = asep\n",
      "index = 95 | tebakan = asep | jawaban = asep\n",
      "index = 96 | tebakan = udin | jawaban = udin\n",
      "index = 97 | tebakan = udin | jawaban = udin\n",
      "index = 98 | tebakan = asep | jawaban = asep\n",
      "index = 99 | tebakan = asep | jawaban = asep\n",
      "index = 100 | tebakan = udin | jawaban = udin\n",
      "index = 101 | tebakan = asep | jawaban = asep\n",
      "index = 102 | tebakan = asep | jawaban = asep\n",
      "index = 103 | tebakan = udin | jawaban = udin\n",
      "index = 104 | tebakan = asep | jawaban = asep\n",
      "index = 105 | tebakan = udin | jawaban = udin\n",
      "index = 106 | tebakan = udin | jawaban = udin\n",
      "index = 107 | tebakan = udin | jawaban = udin\n",
      "index = 108 | tebakan = asep | jawaban = asep\n",
      "index = 109 | tebakan = udin | jawaban = udin\n",
      "index = 110 | tebakan = asep | jawaban = asep\n",
      "index = 111 | tebakan = asep | jawaban = asep\n",
      "index = 112 | tebakan = udin | jawaban = udin\n",
      "index = 113 | tebakan = asep | jawaban = asep\n",
      "index = 114 | tebakan = asep | jawaban = asep\n",
      "index = 115 | tebakan = udin | jawaban = udin\n",
      "index = 116 | tebakan = udin | jawaban = udin\n",
      "index = 117 | tebakan = asep | jawaban = asep\n",
      "index = 118 | tebakan = asep | jawaban = asep\n",
      "index = 119 | tebakan = asep | jawaban = asep\n",
      "index = 120 | tebakan = udin | jawaban = udin\n",
      "index = 121 | tebakan = udin | jawaban = udin\n",
      "index = 122 | tebakan = asep | jawaban = asep\n",
      "index = 123 | tebakan = udin | jawaban = udin\n",
      "index = 124 | tebakan = asep | jawaban = asep\n",
      "index = 125 | tebakan = udin | jawaban = udin\n",
      "index = 126 | tebakan = udin | jawaban = udin\n",
      "index = 127 | tebakan = udin | jawaban = udin\n",
      "index = 128 | tebakan = udin | jawaban = udin\n",
      "index = 129 | tebakan = asep | jawaban = asep\n",
      "index = 130 | tebakan = asep | jawaban = asep\n",
      "index = 131 | tebakan = asep | jawaban = asep\n",
      "index = 132 | tebakan = asep | jawaban = asep\n",
      "index = 133 | tebakan = asep | jawaban = asep\n",
      "index = 134 | tebakan = asep | jawaban = asep\n",
      "index = 135 | tebakan = udin | jawaban = udin\n",
      "index = 136 | tebakan = asep | jawaban = asep\n",
      "index = 137 | tebakan = udin | jawaban = udin\n",
      "index = 138 | tebakan = udin | jawaban = udin\n",
      "index = 139 | tebakan = asep | jawaban = asep\n",
      "index = 140 | tebakan = asep | jawaban = asep\n",
      "index = 141 | tebakan = asep | jawaban = asep\n",
      "index = 142 | tebakan = udin | jawaban = udin\n",
      "index = 143 | tebakan = asep | jawaban = asep\n",
      "index = 144 | tebakan = asep | jawaban = asep\n",
      "index = 145 | tebakan = udin | jawaban = udin\n",
      "index = 146 | tebakan = udin | jawaban = udin\n",
      "index = 147 | tebakan = asep | jawaban = asep\n",
      "index = 148 | tebakan = asep | jawaban = asep\n",
      "index = 149 | tebakan = asep | jawaban = asep\n",
      "index = 150 | tebakan = udin | jawaban = udin\n",
      "index = 151 | tebakan = asep | jawaban = asep\n",
      "index = 152 | tebakan = asep | jawaban = asep\n",
      "index = 153 | tebakan = udin | jawaban = udin\n",
      "index = 154 | tebakan = asep | jawaban = asep\n",
      "index = 155 | tebakan = udin | jawaban = udin\n",
      "index = 156 | tebakan = asep | jawaban = asep\n",
      "index = 157 | tebakan = asep | jawaban = asep\n",
      "index = 158 | tebakan = udin | jawaban = udin\n",
      "index = 159 | tebakan = asep | jawaban = asep\n",
      "index = 160 | tebakan = asep | jawaban = asep\n",
      "index = 161 | tebakan = asep | jawaban = asep\n",
      "index = 162 | tebakan = udin | jawaban = udin\n",
      "index = 163 | tebakan = asep | jawaban = asep\n",
      "index = 164 | tebakan = asep | jawaban = asep\n",
      "index = 165 | tebakan = asep | jawaban = asep\n",
      "index = 166 | tebakan = udin | jawaban = udin\n",
      "index = 167 | tebakan = udin | jawaban = udin\n",
      "index = 168 | tebakan = asep | jawaban = asep\n",
      "index = 169 | tebakan = udin | jawaban = udin\n",
      "index = 170 | tebakan = udin | jawaban = udin\n",
      "index = 171 | tebakan = udin | jawaban = udin\n",
      "index = 172 | tebakan = asep | jawaban = asep\n",
      "index = 173 | tebakan = udin | jawaban = udin\n",
      "index = 174 | tebakan = asep | jawaban = asep\n",
      "index = 175 | tebakan = asep | jawaban = asep\n",
      "index = 176 | tebakan = udin | jawaban = udin\n",
      "index = 177 | tebakan = asep | jawaban = asep\n",
      "index = 178 | tebakan = udin | jawaban = udin\n",
      "index = 179 | tebakan = udin | jawaban = udin\n",
      "index = 180 | tebakan = udin | jawaban = udin\n",
      "index = 181 | tebakan = asep | jawaban = asep\n",
      "index = 182 | tebakan = asep | jawaban = asep\n",
      "index = 183 | tebakan = asep | jawaban = asep\n",
      "index = 184 | tebakan = udin | jawaban = udin\n",
      "index = 185 | tebakan = asep | jawaban = asep\n",
      "index = 186 | tebakan = asep | jawaban = asep\n",
      "index = 187 | tebakan = asep | jawaban = asep\n",
      "index = 188 | tebakan = udin | jawaban = udin\n",
      "index = 189 | tebakan = udin | jawaban = udin\n",
      "index = 190 | tebakan = udin | jawaban = udin\n",
      "index = 191 | tebakan = udin | jawaban = udin\n",
      "index = 192 | tebakan = udin | jawaban = udin\n",
      "index = 193 | tebakan = udin | jawaban = udin\n",
      "index = 194 | tebakan = asep | jawaban = asep\n",
      "index = 195 | tebakan = udin | jawaban = udin\n",
      "index = 196 | tebakan = asep | jawaban = asep\n",
      "index = 197 | tebakan = udin | jawaban = udin\n"
     ]
    }
   ],
   "source": [
    "learning_rate = 0.1\n",
    "answer = []\n",
    "error_array = np.zeros((2,len(data_frame)))\n",
    "for index, baris in data_frame.iterrows():\n",
    "    w_lama = w\n",
    "    input = np.array([[baris.x1],[baris.x2]])\n",
    "    output_hidden = np.dot(w_lama,input)\n",
    "    output_learn = sigmoid(output_hidden)\n",
    "    output_actual = np.array([[baris.y1],[baris.y2]])\n",
    "\n",
    "    error = output_actual - output_learn\n",
    "\n",
    "    delta_w = np.dot(learning_rate*error*output_learn*(1-output_learn),input.T)\n",
    "    w_baru = w_lama + delta_w\n",
    "    w = w_baru\n",
    "\n",
    "    error_array[:,index] = error.T*error.T\n",
    "    tebakan = np.argmax(output_learn)\n",
    "    jawaban = np.argmax(output_actual)\n",
    "\n",
    "    label_tebakan = \"asep\" if tebakan == 1 else \"udin\"\n",
    "    \n",
    "    # print(output_hidden)\n",
    "\n",
    "    print(f\"index = {index} | tebakan = {label_tebakan} | jawaban = {baris.label}\")\n",
    "\n",
    "    if tebakan == jawaban:\n",
    "        answer.append(1)\n",
    "    else: \n",
    "        answer.append(0)"
   ]
  },
  {
   "cell_type": "code",
   "execution_count": 8,
   "metadata": {},
   "outputs": [
    {
     "data": {
      "text/plain": [
       "[<matplotlib.lines.Line2D at 0x14389c52ad0>,\n",
       " <matplotlib.lines.Line2D at 0x14389cea770>]"
      ]
     },
     "execution_count": 8,
     "metadata": {},
     "output_type": "execute_result"
    },
    {
     "data": {
      "image/png": "[encoded data removed]",
      "text/plain": [
       "<Figure size 640x480 with 1 Axes>"
      ]
     },
     "metadata": {},
     "output_type": "display_data"
    }
   ],
   "source": [
    "plt.plot(error_array.T)"
   ]
  },
  {
   "cell_type": "code",
   "execution_count": 9,
   "metadata": {},
   "outputs": [
    {
     "data": {
      "text/plain": [
       "[<matplotlib.lines.Line2D at 0x1438bda0bb0>]"
      ]
     },
     "execution_count": 9,
     "metadata": {},
     "output_type": "execute_result"
    },
    {
     "data": {
      "image/png": "[encoded data removed]",
      "text/plain": [
       "<Figure size 640x480 with 1 Axes>"
      ]
     },
     "metadata": {},
     "output_type": "display_data"
    }
   ],
   "source": [
    "plt.plot(answer)"
   ]
  },
  {
   "cell_type": "code",
   "execution_count": 10,
   "metadata": {},
   "outputs": [
    {
     "name": "stdout",
     "output_type": "stream",
     "text": [
      "tinggi = 180 | berat = 50 | adalah = udin\n"
     ]
    }
   ],
   "source": [
    "# tinggi badan\n",
    "x1 = 18\n",
    "# berat badan\n",
    "x2 = 5\n",
    "\n",
    "input = np.array([[x1], [x2]])\n",
    "output_hidden =np.dot(w,input)\n",
    "output_prediction = sigmoid(output_hidden)\n",
    "\n",
    "prediction = np.argmax(output_prediction)\n",
    "\n",
    "label_prediction = \"asep\" if prediction == 1 else \"udin\"\n",
    "\n",
    "print(f\"tinggi = {x1*10} | berat = {x2*10} | adalah = {label_prediction}\")"
   ]
  }
 ],
 "metadata": {
  "kernelspec": {
   "display_name": "Python 3",
   "language": "python",
   "name": "python3"
  },
  "language_info": {
   "codemirror_mode": {
    "name": "ipython",
    "version": 3
   },
   "file_extension": ".py",
   "mimetype": "text/x-python",
   "name": "python",
   "nbconvert_exporter": "python",
   "pygments_lexer": "ipython3",
   "version": "3.10.9 (tags/v3.10.9:1dd9be6, Dec  6 2022, 20:01:21) [MSC v.1934 64 bit (AMD64)]"
  },
  "orig_nbformat": 4,
  "vscode": {
   "interpreter": {
    "hash": "a4592e9ba8e4ae7f06f6d0ef6283b87e8cec96214252482ee339793f696fce4b"
   }
  }
 },
 "nbformat": 4,
 "nbformat_minor": 2
}
